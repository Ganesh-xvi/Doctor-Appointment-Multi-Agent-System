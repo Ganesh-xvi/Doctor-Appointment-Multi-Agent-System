{
 "cells": [
  {
   "cell_type": "code",
   "execution_count": null,
   "id": "173fd2bb",
   "metadata": {},
   "outputs": [],
   "source": []
  },
  {
   "cell_type": "code",
   "execution_count": 1,
   "id": "a677bea3",
   "metadata": {},
   "outputs": [],
   "source": [
    "import os\n",
    "import re\n",
    "import pandas as pd\n",
    "from datetime import datetime\n",
    "from dotenv import load_dotenv\n",
    "from langchain_groq import ChatGroq\n",
    "from langgraph.types import Command\n",
    "from typing import  Literal,List,Any\n",
    "from langchain_core.tools import tool\n",
    "from langchain_ollama  import ChatOllama\n",
    "from langgraph.graph.message import add_messages\n",
    "from langgraph.graph import START, StateGraph,END\n",
    "from langgraph.prebuilt import create_react_agent\n",
    "from langgraph_supervisor import create_supervisor\n",
    "from typing_extensions import TypedDict, Annotated\n",
    "from pydantic import BaseModel, Field, field_validator\n",
    "from langchain_core.prompts.chat import ChatPromptTemplate\n",
    "from langchain_core.messages import HumanMessage,AIMessage,convert_to_messages"
   ]
  },
  {
   "cell_type": "code",
   "execution_count": 2,
   "id": "53498dde",
   "metadata": {},
   "outputs": [
    {
     "data": {
      "text/plain": [
       "True"
      ]
     },
     "execution_count": 2,
     "metadata": {},
     "output_type": "execute_result"
    }
   ],
   "source": [
    "load_dotenv()"
   ]
  },
  {
   "cell_type": "code",
   "execution_count": 3,
   "id": "160cd178",
   "metadata": {},
   "outputs": [],
   "source": [
    "data = os.getenv(\"DATA\")"
   ]
  },
  {
   "cell_type": "code",
   "execution_count": 4,
   "id": "a7d68f5f",
   "metadata": {},
   "outputs": [],
   "source": [
    "class DateTimeModel(BaseModel):\n",
    "    date: str = Field(description=\"Properly formatted date\", pattern=r'^\\d{2}-\\d{2}-\\d{4} \\d{2}:\\d{2}$')\n",
    "\n",
    "    @field_validator(\"date\")\n",
    "    def check_format_date(cls, v):\n",
    "        if not re.match(r'^\\d{2}-\\d{2}-\\d{4} \\d{2}:\\d{2}$', v):  # Ensures 'DD-MM-YYYY HH:MM' format\n",
    "            raise ValueError(\"The date should be in format 'DD-MM-YYYY HH:MM'\")\n",
    "        return v"
   ]
  },
  {
   "cell_type": "code",
   "execution_count": 5,
   "id": "21bd1601",
   "metadata": {},
   "outputs": [],
   "source": [
    "class DateModel(BaseModel):\n",
    "    date: str = Field(description=\"Properly formatted date\", pattern=r'^\\d{2}-\\d{2}-\\d{4}$')\n",
    "\n",
    "    @field_validator(\"date\")\n",
    "    def check_format_date(cls, v):\n",
    "        if not re.match(r'^\\d{2}-\\d{2}-\\d{4}$', v):  # Ensures DD-MM-YYYY format\n",
    "            raise ValueError(\"The date must be in the format 'DD-MM-YYYY'\")\n",
    "        return v"
   ]
  },
  {
   "cell_type": "code",
   "execution_count": 6,
   "id": "c8473b05",
   "metadata": {},
   "outputs": [],
   "source": [
    "class IdentificationNumberModel(BaseModel):\n",
    "    id: int = Field(description=\"Identification number (7 or 8 digits long)\")\n",
    "    @field_validator(\"id\")\n",
    "    def check_format_id(cls, v):\n",
    "        if not re.match(r'^\\d{7,8}$', str(v)):  # Convert to string before matching\n",
    "            raise ValueError(\"The ID number should be a 7 or 8-digit number\")\n",
    "        return v  "
   ]
  },
  {
   "cell_type": "code",
   "execution_count": 7,
   "id": "b26a5607",
   "metadata": {},
   "outputs": [
    {
     "data": {
      "text/plain": [
       "DateTimeModel(date='09-09-2025 12:30')"
      ]
     },
     "execution_count": 7,
     "metadata": {},
     "output_type": "execute_result"
    }
   ],
   "source": [
    "exmaple_for_DateTimeModel = DateTimeModel(date=\"09-09-2025 12:30\")\n",
    "exmaple_for_DateTimeModel"
   ]
  },
  {
   "cell_type": "code",
   "execution_count": 8,
   "id": "602464bd",
   "metadata": {},
   "outputs": [
    {
     "data": {
      "text/plain": [
       "'09-09-2025 12:30'"
      ]
     },
     "execution_count": 8,
     "metadata": {},
     "output_type": "execute_result"
    }
   ],
   "source": [
    "exmaple_for_DateTimeModel.date"
   ]
  },
  {
   "cell_type": "code",
   "execution_count": 9,
   "id": "d3c52b96",
   "metadata": {
    "scrolled": true
   },
   "outputs": [
    {
     "data": {
      "text/plain": [
       "'09-09-2025 12:30'"
      ]
     },
     "execution_count": 9,
     "metadata": {},
     "output_type": "execute_result"
    }
   ],
   "source": [
    "DateTimeModel.check_format_date(\"09-09-2025 12:30\")"
   ]
  },
  {
   "cell_type": "code",
   "execution_count": 10,
   "id": "707e83a6",
   "metadata": {},
   "outputs": [
    {
     "data": {
      "text/plain": [
       "DateModel(date='09-09-2025')"
      ]
     },
     "execution_count": 10,
     "metadata": {},
     "output_type": "execute_result"
    }
   ],
   "source": [
    "exmaple_for_DateModel = DateModel(date=\"09-09-2025\")\n",
    "exmaple_for_DateModel"
   ]
  },
  {
   "cell_type": "code",
   "execution_count": 11,
   "id": "a18271d0",
   "metadata": {},
   "outputs": [
    {
     "data": {
      "text/plain": [
       "IdentificationNumberModel(id=1234568)"
      ]
     },
     "execution_count": 11,
     "metadata": {},
     "output_type": "execute_result"
    }
   ],
   "source": [
    "exmaple_IdentificationNumberModel = IdentificationNumberModel(id = 1234568)\n",
    "exmaple_IdentificationNumberModel"
   ]
  },
  {
   "cell_type": "code",
   "execution_count": 12,
   "id": "5b3b4ac3",
   "metadata": {},
   "outputs": [],
   "source": [
    "df = pd.read_csv(data)"
   ]
  },
  {
   "cell_type": "code",
   "execution_count": 13,
   "id": "c8640a3a",
   "metadata": {},
   "outputs": [
    {
     "data": {
      "text/html": [
       "<div>\n",
       "<style scoped>\n",
       "    .dataframe tbody tr th:only-of-type {\n",
       "        vertical-align: middle;\n",
       "    }\n",
       "\n",
       "    .dataframe tbody tr th {\n",
       "        vertical-align: top;\n",
       "    }\n",
       "\n",
       "    .dataframe thead th {\n",
       "        text-align: right;\n",
       "    }\n",
       "</style>\n",
       "<table border=\"1\" class=\"dataframe\">\n",
       "  <thead>\n",
       "    <tr style=\"text-align: right;\">\n",
       "      <th></th>\n",
       "      <th>date_slot</th>\n",
       "      <th>specialization</th>\n",
       "      <th>doctor_name</th>\n",
       "      <th>is_available</th>\n",
       "      <th>patient_to_attend</th>\n",
       "    </tr>\n",
       "  </thead>\n",
       "  <tbody>\n",
       "    <tr>\n",
       "      <th>0</th>\n",
       "      <td>05-08-2024 08:00</td>\n",
       "      <td>general_dentist</td>\n",
       "      <td>john doe</td>\n",
       "      <td>True</td>\n",
       "      <td>NaN</td>\n",
       "    </tr>\n",
       "    <tr>\n",
       "      <th>1</th>\n",
       "      <td>05-08-2024 08:30</td>\n",
       "      <td>general_dentist</td>\n",
       "      <td>john doe</td>\n",
       "      <td>False</td>\n",
       "      <td>1000082.0</td>\n",
       "    </tr>\n",
       "    <tr>\n",
       "      <th>2</th>\n",
       "      <td>05-08-2024 09:00</td>\n",
       "      <td>general_dentist</td>\n",
       "      <td>john doe</td>\n",
       "      <td>False</td>\n",
       "      <td>1000048.0</td>\n",
       "    </tr>\n",
       "    <tr>\n",
       "      <th>3</th>\n",
       "      <td>05-08-2024 09:30</td>\n",
       "      <td>general_dentist</td>\n",
       "      <td>john doe</td>\n",
       "      <td>False</td>\n",
       "      <td>1000036.0</td>\n",
       "    </tr>\n",
       "    <tr>\n",
       "      <th>4</th>\n",
       "      <td>05-08-2024 10:00</td>\n",
       "      <td>general_dentist</td>\n",
       "      <td>john doe</td>\n",
       "      <td>False</td>\n",
       "      <td>1000024.0</td>\n",
       "    </tr>\n",
       "  </tbody>\n",
       "</table>\n",
       "</div>"
      ],
      "text/plain": [
       "          date_slot   specialization doctor_name  is_available  \\\n",
       "0  05-08-2024 08:00  general_dentist    john doe          True   \n",
       "1  05-08-2024 08:30  general_dentist    john doe         False   \n",
       "2  05-08-2024 09:00  general_dentist    john doe         False   \n",
       "3  05-08-2024 09:30  general_dentist    john doe         False   \n",
       "4  05-08-2024 10:00  general_dentist    john doe         False   \n",
       "\n",
       "   patient_to_attend  \n",
       "0                NaN  \n",
       "1          1000082.0  \n",
       "2          1000048.0  \n",
       "3          1000036.0  \n",
       "4          1000024.0  "
      ]
     },
     "execution_count": 13,
     "metadata": {},
     "output_type": "execute_result"
    }
   ],
   "source": [
    "df.head()"
   ]
  },
  {
   "cell_type": "code",
   "execution_count": 14,
   "id": "50b15760",
   "metadata": {},
   "outputs": [
    {
     "data": {
      "text/plain": [
       "0       05-08-2024 08:00\n",
       "1       05-08-2024 08:30\n",
       "2       05-08-2024 09:00\n",
       "3       05-08-2024 09:30\n",
       "4       05-08-2024 10:00\n",
       "              ...       \n",
       "4275    03-09-2024 14:30\n",
       "4276    03-09-2024 15:00\n",
       "4277    03-09-2024 15:30\n",
       "4278    03-09-2024 16:00\n",
       "4279    03-09-2024 16:30\n",
       "Name: date_slot, Length: 4280, dtype: object"
      ]
     },
     "execution_count": 14,
     "metadata": {},
     "output_type": "execute_result"
    }
   ],
   "source": [
    "df['date_slot']"
   ]
  },
  {
   "cell_type": "code",
   "execution_count": 15,
   "id": "82a2df58",
   "metadata": {},
   "outputs": [
    {
     "data": {
      "text/plain": [
       "'08:00'"
      ]
     },
     "execution_count": 15,
     "metadata": {},
     "output_type": "execute_result"
    }
   ],
   "source": [
    "'05-08-2024 08:00'.split(\" \")[-1]"
   ]
  },
  {
   "cell_type": "code",
   "execution_count": 16,
   "id": "e78369cd",
   "metadata": {},
   "outputs": [],
   "source": [
    "df['date_slot_time'] = df['date_slot'].apply(lambda input: input.split(' ')[-1])"
   ]
  },
  {
   "cell_type": "code",
   "execution_count": 17,
   "id": "6a214749",
   "metadata": {
    "scrolled": true
   },
   "outputs": [
    {
     "data": {
      "text/plain": [
       "0       08:00\n",
       "1       08:30\n",
       "2       09:00\n",
       "3       09:30\n",
       "4       10:00\n",
       "        ...  \n",
       "4275    14:30\n",
       "4276    15:00\n",
       "4277    15:30\n",
       "4278    16:00\n",
       "4279    16:30\n",
       "Name: date_slot_time, Length: 4280, dtype: object"
      ]
     },
     "execution_count": 17,
     "metadata": {},
     "output_type": "execute_result"
    }
   ],
   "source": [
    "df['date_slot_time']"
   ]
  },
  {
   "cell_type": "code",
   "execution_count": 18,
   "id": "6e8b21b0",
   "metadata": {},
   "outputs": [],
   "source": [
    "@tool\n",
    "def check_availability_by_doctor(desired_date:DateModel, doctor_name:Literal['kevin anderson','robert martinez','susan davis','daniel miller','sarah wilson','michael green','lisa brown','jane smith','emily johnson','john doe']):\n",
    "    \"\"\"\n",
    "    Checking the database if we have availability for the specific doctor.\n",
    "    The parameters should be mentioned by the user in the query\n",
    "    \"\"\"    \n",
    "    df['date_slot_time'] = df['date_slot'].apply(lambda input: input.split(' ')[-1])\n",
    "    \n",
    "    rows = list(df[(df['date_slot'].apply(lambda input: input.split(' ')[0]) == desired_date.date)&(df['doctor_name'] == doctor_name)&(df['is_available'] == True)]['date_slot_time'])\n",
    "\n",
    "    if len(rows) == 0:\n",
    "        output = \"No availability in the entire day\"\n",
    "    else:\n",
    "        output = f'This availability for {desired_date.date}\\n'\n",
    "        output += \"Available slots: \" + ', '.join(rows)\n",
    "    return output"
   ]
  },
  {
   "cell_type": "code",
   "execution_count": 19,
   "id": "f1e343ce",
   "metadata": {},
   "outputs": [
    {
     "name": "stdout",
     "output_type": "stream",
     "text": [
      "No availability in the entire day\n"
     ]
    }
   ],
   "source": [
    "print(check_availability_by_doctor.invoke({\"desired_date\": exmaple_for_DateModel, \"doctor_name\": \"kevin anderson\"}))"
   ]
  },
  {
   "cell_type": "code",
   "execution_count": 20,
   "id": "e5158628",
   "metadata": {},
   "outputs": [
    {
     "name": "stdout",
     "output_type": "stream",
     "text": [
      "This availability for 03-09-2024\n",
      "Available slots: 08:00, 08:30, 11:30, 12:00, 12:30, 13:00, 14:00, 14:30, 15:00, 15:30, 16:00, 16:30\n"
     ]
    }
   ],
   "source": [
    "print(check_availability_by_doctor.invoke({\"desired_date\": DateModel(date=\"03-09-2024\"), \"doctor_name\": \"kevin anderson\"}))"
   ]
  },
  {
   "cell_type": "code",
   "execution_count": 21,
   "id": "eca946e6",
   "metadata": {},
   "outputs": [],
   "source": [
    "def convert_to_am_pm(time_str):\n",
    "    # Split the time string into hours and minutes\n",
    "    time_str = str(time_str)\n",
    "    hours, minutes = map(int, time_str.split(\":\"))\n",
    "\n",
    "    # Determine AM or PM\n",
    "    period = \"AM\" if hours < 12 else \"PM\"\n",
    "\n",
    "    # Convert hours to 12-hour format\n",
    "    hours = hours % 12 or 12\n",
    "\n",
    "    # Format the output\n",
    "    return f\"{hours}:{minutes:02d} {period}\""
   ]
  },
  {
   "cell_type": "code",
   "execution_count": 22,
   "id": "05db7b79",
   "metadata": {},
   "outputs": [
    {
     "data": {
      "text/plain": [
       "'8:00 AM'"
      ]
     },
     "execution_count": 22,
     "metadata": {},
     "output_type": "execute_result"
    }
   ],
   "source": [
    "convert_to_am_pm('08:00')"
   ]
  },
  {
   "cell_type": "code",
   "execution_count": 23,
   "id": "4ff4a9d6",
   "metadata": {},
   "outputs": [
    {
     "data": {
      "text/plain": [
       "'12:30 PM'"
      ]
     },
     "execution_count": 23,
     "metadata": {},
     "output_type": "execute_result"
    }
   ],
   "source": [
    "convert_to_am_pm('12:30')"
   ]
  },
  {
   "cell_type": "code",
   "execution_count": 24,
   "id": "1c45ebbd",
   "metadata": {},
   "outputs": [],
   "source": [
    "df['date_slot_time'] = df['date_slot'].apply(lambda input: input.split(' ')[-1])\n",
    "\n",
    "rows                 = df[(df['date_slot'].apply(lambda input: input.split(' ')[0]) == '03-09-2024') & (df['specialization'] == 'general_dentist') & (df['is_available'] == True)].groupby(['specialization', 'doctor_name'])['date_slot_time'].apply(list).reset_index(name='available_slots')"
   ]
  },
  {
   "cell_type": "code",
   "execution_count": 25,
   "id": "1d040452",
   "metadata": {},
   "outputs": [
    {
     "data": {
      "text/html": [
       "<div>\n",
       "<style scoped>\n",
       "    .dataframe tbody tr th:only-of-type {\n",
       "        vertical-align: middle;\n",
       "    }\n",
       "\n",
       "    .dataframe tbody tr th {\n",
       "        vertical-align: top;\n",
       "    }\n",
       "\n",
       "    .dataframe thead th {\n",
       "        text-align: right;\n",
       "    }\n",
       "</style>\n",
       "<table border=\"1\" class=\"dataframe\">\n",
       "  <thead>\n",
       "    <tr style=\"text-align: right;\">\n",
       "      <th></th>\n",
       "      <th>specialization</th>\n",
       "      <th>doctor_name</th>\n",
       "      <th>available_slots</th>\n",
       "    </tr>\n",
       "  </thead>\n",
       "  <tbody>\n",
       "    <tr>\n",
       "      <th>0</th>\n",
       "      <td>general_dentist</td>\n",
       "      <td>emily johnson</td>\n",
       "      <td>[08:00, 08:30, 09:00, 09:30, 10:00, 10:30, 11:...</td>\n",
       "    </tr>\n",
       "    <tr>\n",
       "      <th>1</th>\n",
       "      <td>general_dentist</td>\n",
       "      <td>john doe</td>\n",
       "      <td>[08:30, 10:00, 10:30, 11:00, 11:30, 12:00, 13:...</td>\n",
       "    </tr>\n",
       "  </tbody>\n",
       "</table>\n",
       "</div>"
      ],
      "text/plain": [
       "    specialization    doctor_name  \\\n",
       "0  general_dentist  emily johnson   \n",
       "1  general_dentist       john doe   \n",
       "\n",
       "                                     available_slots  \n",
       "0  [08:00, 08:30, 09:00, 09:30, 10:00, 10:30, 11:...  \n",
       "1  [08:30, 10:00, 10:30, 11:00, 11:30, 12:00, 13:...  "
      ]
     },
     "execution_count": 25,
     "metadata": {},
     "output_type": "execute_result"
    }
   ],
   "source": [
    "rows"
   ]
  },
  {
   "cell_type": "code",
   "execution_count": 26,
   "id": "9954c54c",
   "metadata": {},
   "outputs": [],
   "source": [
    "@tool\n",
    "def check_availability_by_specialization(desired_date:DateModel, specialization:Literal[\"general_dentist\", \"cosmetic_dentist\", \"prosthodontist\", \"pediatric_dentist\",\"emergency_dentist\",\"oral_surgeon\",\"orthodontist\"]):\n",
    "    \"\"\"\n",
    "    Checking the database if we have availability for the specific specialization.\n",
    "    The parameters should be mentioned by the user in the query\n",
    "    \"\"\"\n",
    "    df['date_slot_time'] = df['date_slot'].apply(lambda input: input.split(' ')[-1])\n",
    "    \n",
    "    rows                 = df[(df['date_slot'].apply(lambda input: input.split(' ')[0]) == desired_date.date) & (df['specialization'] == specialization) & (df['is_available'] == True)].groupby(['specialization', 'doctor_name'])['date_slot_time'].apply(list).reset_index(name='available_slots')\n",
    "\n",
    "    if len(rows) == 0:\n",
    "        output = \"No availability in the entire day\"\n",
    "    else:\n",
    "        output = f'This availability for {desired_date.date}\\n'\n",
    "        for row in rows.values:\n",
    "            output += row[1] + \". Available slots: \\n\" + ', \\n'.join([convert_to_am_pm(value) for value in row[2]])+'\\n'\n",
    "\n",
    "    return output"
   ]
  },
  {
   "cell_type": "code",
   "execution_count": 27,
   "id": "5aa43945",
   "metadata": {},
   "outputs": [
    {
     "name": "stdout",
     "output_type": "stream",
     "text": [
      "No availability in the entire day\n"
     ]
    }
   ],
   "source": [
    "print(check_availability_by_specialization.invoke({\"desired_date\": exmaple_for_DateModel, \"specialization\": \"general_dentist\"}))"
   ]
  },
  {
   "cell_type": "code",
   "execution_count": 28,
   "id": "61197ace",
   "metadata": {},
   "outputs": [],
   "source": [
    "date_instance = DateModel(date=\"03-09-2024\")"
   ]
  },
  {
   "cell_type": "code",
   "execution_count": 29,
   "id": "0f3749bb",
   "metadata": {},
   "outputs": [
    {
     "name": "stdout",
     "output_type": "stream",
     "text": [
      "This availability for 03-09-2024\n",
      "emily johnson. Available slots: \n",
      "8:00 AM, \n",
      "8:30 AM, \n",
      "9:00 AM, \n",
      "9:30 AM, \n",
      "10:00 AM, \n",
      "10:30 AM, \n",
      "11:00 AM, \n",
      "11:30 AM, \n",
      "12:00 PM, \n",
      "12:30 PM, \n",
      "1:00 PM, \n",
      "2:00 PM, \n",
      "2:30 PM, \n",
      "3:30 PM, \n",
      "4:00 PM, \n",
      "4:30 PM\n",
      "john doe. Available slots: \n",
      "8:30 AM, \n",
      "10:00 AM, \n",
      "10:30 AM, \n",
      "11:00 AM, \n",
      "11:30 AM, \n",
      "12:00 PM, \n",
      "1:00 PM, \n",
      "1:30 PM, \n",
      "2:00 PM, \n",
      "2:30 PM, \n",
      "3:00 PM, \n",
      "4:30 PM\n",
      "\n"
     ]
    }
   ],
   "source": [
    "print(check_availability_by_specialization.invoke({\"desired_date\": date_instance, \"specialization\": \"general_dentist\"}))"
   ]
  },
  {
   "cell_type": "code",
   "execution_count": 30,
   "id": "c2a3f1d9",
   "metadata": {},
   "outputs": [],
   "source": [
    "@tool\n",
    "def cancel_appointment(date:DateTimeModel, id_number:IdentificationNumberModel, doctor_name:Literal['kevin anderson','robert martinez','susan davis','daniel miller','sarah wilson','michael green','lisa brown','jane smith','emily johnson','john doe']):\n",
    "    \"\"\"\n",
    "    Canceling an appointment.\n",
    "    The parameters MUST be mentioned by the user in the query.\n",
    "    \"\"\"\n",
    "    case_to_remove = df[(df['date_slot'] == date.date)&(df['patient_to_attend'] == id_number.id)&(df['doctor_name'] == doctor_name)]\n",
    "    if len(case_to_remove) == 0:\n",
    "        return \"You don´t have any appointment with that specifications\"\n",
    "    else:\n",
    "        df.loc[(df['date_slot'] == date.date) & (df['patient_to_attend'] == id_number.id) & (df['doctor_name'] == doctor_name), ['is_available', 'patient_to_attend']] = [True, None]\n",
    "        df.to_csv(\"doctor_availability.csv\", index = False)\n",
    "\n",
    "        return \"Successfully cancelled\""
   ]
  },
  {
   "cell_type": "code",
   "execution_count": 31,
   "id": "a776058e",
   "metadata": {},
   "outputs": [],
   "source": [
    "Date     = DateTimeModel(date=\"07-08-2024 08:30\")\n",
    "IDNumber = IdentificationNumberModel(id=1000097)"
   ]
  },
  {
   "cell_type": "code",
   "execution_count": 32,
   "id": "11546942",
   "metadata": {},
   "outputs": [
    {
     "name": "stdout",
     "output_type": "stream",
     "text": [
      "You don´t have any appointment with that specifications\n"
     ]
    }
   ],
   "source": [
    "print(cancel_appointment.invoke({\"date\": Date,\"id_number\":IDNumber,\"doctor_name\":\"john doe\"}))"
   ]
  },
  {
   "cell_type": "code",
   "execution_count": 33,
   "id": "1cc110fb",
   "metadata": {},
   "outputs": [],
   "source": [
    "def convert_datetime_format(dt_str):\n",
    "    # Parse the input datetime string\n",
    "    dt = datetime.strptime(dt_str, \"%d-%m-%Y %H:%M\")\n",
    "\n",
    "    # Format the output as 'DD-MM-YYYY H.M' (removing leading zero from hour only)\n",
    "    return dt.strftime(\"%d-%m-%Y %#H.%M\")"
   ]
  },
  {
   "cell_type": "code",
   "execution_count": 34,
   "id": "b730edf1",
   "metadata": {},
   "outputs": [],
   "source": [
    "@tool\n",
    "def set_appointment(desired_date:DateTimeModel, id_number:IdentificationNumberModel, doctor_name:Literal['kevin anderson','robert martinez','susan davis','daniel miller','sarah wilson','michael green','lisa brown','jane smith','emily johnson','john doe']):\n",
    "    \"\"\"\n",
    "    Set appointment or slot with the doctor.\n",
    "    The parameters MUST be mentioned by the user in the query.\n",
    "    \"\"\"\n",
    "    case = df[(df['date_slot'] == convert_datetime_format(desired_date.date))&(df['doctor_name'] == doctor_name)&(df['is_available'] == True)]\n",
    "    if len(case) == 0:\n",
    "        return \"No available appointments for that particular case\"\n",
    "    else:\n",
    "        df.loc[(df['date_slot'] == convert_datetime_format(desired_date.date))&(df['doctor_name'] == doctor_name) & (df['is_available'] == True), ['is_available','patient_to_attend']] = [False, id_number.id]\n",
    "        df.to_csv(\"doctor_availability.csv\", index = False)\n",
    "\n",
    "        return \"Succesfully done\""
   ]
  },
  {
   "cell_type": "code",
   "execution_count": 35,
   "id": "28f1dd6f",
   "metadata": {
    "scrolled": true
   },
   "outputs": [
    {
     "name": "stdout",
     "output_type": "stream",
     "text": [
      "No available appointments for that particular case\n"
     ]
    }
   ],
   "source": [
    "print(set_appointment.invoke({\"desired_date\":Date,\"id_number\":IDNumber,\"doctor_name\":\"john doe\"}))"
   ]
  },
  {
   "cell_type": "code",
   "execution_count": 36,
   "id": "02e95bd4",
   "metadata": {},
   "outputs": [],
   "source": [
    "## Tools For Booking agent\n",
    "@tool\n",
    "def reschedule_appointment(old_date:DateTimeModel, new_date:DateTimeModel, id_number:IdentificationNumberModel, doctor_name:Literal['kevin anderson','robert martinez','susan davis','daniel miller','sarah wilson','michael green','lisa brown','jane smith','emily johnson','john doe']):\n",
    "    \"\"\"\n",
    "    Rescheduling an appointment.\n",
    "    The parameters MUST be mentioned by the user in the query.\n",
    "    \"\"\"\n",
    "    available_for_desired_date = df[(df['date_slot'] == new_date.date)&(df['is_available'] == True)&(df['doctor_name'] == doctor_name)]\n",
    "    if len(available_for_desired_date) == 0:\n",
    "        return \"Not available slots in the desired period\"\n",
    "    else:\n",
    "        cancel_appointment.invoke({'date':old_date, 'id_number':id_number, 'doctor_name':doctor_name})\n",
    "        set_appointment.invoke({'desired_date':new_date, 'id_number': id_number, 'doctor_name': doctor_name})\n",
    "        return \"Successfully rescheduled for the desired time\""
   ]
  },
  {
   "cell_type": "code",
   "execution_count": 37,
   "id": "952c81c8",
   "metadata": {},
   "outputs": [],
   "source": [
    "Old_Date_Time = DateTimeModel(date=\"05-08-2024 08:30\")\n",
    "New_Date_Time = DateTimeModel(date=\"28-03-2024 14:30\")\n",
    "IDNumber      = IdentificationNumberModel(id=1000082)"
   ]
  },
  {
   "cell_type": "code",
   "execution_count": 38,
   "id": "26362c1c",
   "metadata": {},
   "outputs": [
    {
     "name": "stdout",
     "output_type": "stream",
     "text": [
      "Not available slots in the desired period\n"
     ]
    }
   ],
   "source": [
    "print(reschedule_appointment.invoke({\"old_date\": Old_Date_Time,\"new_date\": New_Date_Time,\"id_number\":IDNumber, \"doctor_name\": \"kevin anderson\"}))"
   ]
  },
  {
   "cell_type": "code",
   "execution_count": 39,
   "id": "70e53c6d",
   "metadata": {},
   "outputs": [],
   "source": [
    "def pretty_print_message(message, indent=False):\n",
    "    pretty_message = message.pretty_repr(html=True)\n",
    "    if not indent:\n",
    "        print(pretty_message)\n",
    "        return\n",
    "\n",
    "    indented = \"\\n\".join(\"\\t\" + c for c in pretty_message.split(\"\\n\"))\n",
    "    print(indented)\n",
    "    \n",
    "def pretty_print_messages(update, last_message=False):\n",
    "    is_subgraph = False\n",
    "    if isinstance(update, tuple):\n",
    "        ns, update = update\n",
    "        # skip parent graph updates in the printouts\n",
    "        if len(ns) == 0:\n",
    "            return\n",
    "\n",
    "        graph_id = ns[-1].split(\":\")[0]\n",
    "        print(f\"Update from subgraph {graph_id}:\")\n",
    "        print(\"\\n\")\n",
    "        is_subgraph = True\n",
    "\n",
    "    for node_name, node_update in update.items():\n",
    "        update_label = f\"Update from node {node_name}:\"\n",
    "        if is_subgraph:\n",
    "            update_label = \"\\t\" + update_label\n",
    "\n",
    "        print(update_label)\n",
    "        print(\"\\n\")\n",
    "\n",
    "        messages = convert_to_messages(node_update[\"messages\"])\n",
    "        if last_message:\n",
    "            messages = messages[-1:]\n",
    "\n",
    "        for m in messages:\n",
    "            pretty_print_message(m, indent=is_subgraph)\n",
    "        print(\"\\n\")    "
   ]
  },
  {
   "cell_type": "code",
   "execution_count": 40,
   "id": "b6058a3b",
   "metadata": {},
   "outputs": [],
   "source": [
    "llm = ChatOllama(model=\"llama3.2:3b-instruct-fp16\")"
   ]
  },
  {
   "cell_type": "code",
   "execution_count": 41,
   "id": "425e3eeb",
   "metadata": {},
   "outputs": [],
   "source": [
    "availability_agent = create_react_agent(\n",
    "                                       model=llm,\n",
    "                                       tools=[check_availability_by_doctor,check_availability_by_specialization] ,\n",
    "                                       name =\"booking_agent\")"
   ]
  },
  {
   "cell_type": "code",
   "execution_count": 42,
   "id": "03292fd4",
   "metadata": {},
   "outputs": [],
   "source": [
    "booking_agent = create_react_agent(\n",
    "                                   model=llm,\n",
    "                                   tools=[set_appointment,cancel_appointment,reschedule_appointment],\n",
    "                                   name=\"availability_agent\")"
   ]
  },
  {
   "cell_type": "code",
   "execution_count": 57,
   "id": "27427282",
   "metadata": {},
   "outputs": [],
   "source": [
    "supervisor = create_supervisor(\n",
    "    model   = llm,\n",
    "    agents  = [booking_agent, availability_agent],\n",
    "    prompt  = \"You are a supervisor that decides whether the user needs booking, rescheduling, cancelling, or just checking availability. Route the query to the right agent.\",\n",
    "    add_handoff_back_messages=True,\n",
    "    output_mode=\"full_history\", \n",
    "    ).compile()"
   ]
  },
  {
   "cell_type": "code",
   "execution_count": 58,
   "id": "fe08f263",
   "metadata": {},
   "outputs": [
    {
     "data": {
      "image/png": "[encoded data removed]",
      "text/plain": [
       "<langgraph.graph.state.CompiledStateGraph object at 0x000001FA75F9D090>"
      ]
     },
     "execution_count": 58,
     "metadata": {},
     "output_type": "execute_result"
    }
   ],
   "source": [
    "supervisor"
   ]
  },
  {
   "cell_type": "code",
   "execution_count": 61,
   "id": "b871ea31",
   "metadata": {},
   "outputs": [
    {
     "name": "stdout",
     "output_type": "stream",
     "text": [
      "Update from node supervisor:\n",
      "\n",
      "\n",
      "=================================\u001b[1m Tool Message \u001b[0m=================================\n",
      "Name: transfer_to_booking_agent\n",
      "\n",
      "Successfully transferred to booking_agent\n",
      "\n",
      "\n",
      "Update from node booking_agent:\n",
      "\n",
      "\n",
      "=================================\u001b[1m Tool Message \u001b[0m=================================\n",
      "Name: transfer_back_to_supervisor\n",
      "\n",
      "Successfully transferred back to supervisor\n",
      "\n",
      "\n",
      "Update from node supervisor:\n",
      "\n",
      "\n",
      "==================================\u001b[1m Ai Message \u001b[0m==================================\n",
      "Name: supervisor\n",
      "\n",
      "After checking on the updated appointment schedule for Dr. John Doe, I found that the new appointment details are:\n",
      "\n",
      "Original Appointment Details:\n",
      "Date: 07-08-2024\n",
      "Time: 08:30\n",
      "\n",
      "New Appointment Details:\n",
      "Date: 28-03-2024\n",
      "Time: 14:30\n",
      "\n",
      "Since the new appointment date is after the original appointment date and time has been rescheduled, I need to confirm if you would like to proceed with this update.\n",
      "\n",
      "Is there anything else I can assist you with regarding your appointment with Dr. John Doe?\n",
      "\n",
      "\n"
     ]
    }
   ],
   "source": [
    "for chunk in supervisor.stream(\n",
    "    {\n",
    "        \"messages\": [\n",
    "            {\n",
    "                \"role\": \"user\",\n",
    "                \"content\": \"Reschedule my appointment with Dr. John Doe from 07-08-2024 08:30 \"\n",
    "                           \"to 28-03-2024 14:30. My ID is 1000097.\"\n",
    "            }\n",
    "        ]\n",
    "    }\n",
    "):\n",
    "    pretty_print_messages(chunk, last_message=True)\n",
    "\n",
    "final_message_history = chunk[\"supervisor\"][\"messages\"]"
   ]
  },
  {
   "cell_type": "code",
   "execution_count": 60,
   "id": "bd6003e8",
   "metadata": {
    "scrolled": false
   },
   "outputs": [
    {
     "name": "stdout",
     "output_type": "stream",
     "text": [
      "Update from node supervisor:\n",
      "\n",
      "\n",
      "=================================\u001b[1m Tool Message \u001b[0m=================================\n",
      "Name: transfer_to_availability_agent\n",
      "\n",
      "Successfully transferred to availability_agent\n",
      "\n",
      "\n",
      "Update from node availability_agent:\n",
      "\n",
      "\n",
      "=================================\u001b[1m Tool Message \u001b[0m=================================\n",
      "Name: transfer_back_to_supervisor\n",
      "\n",
      "Successfully transferred back to supervisor\n",
      "\n",
      "\n",
      "Update from node supervisor:\n",
      "\n",
      "\n",
      "==================================\u001b[1m Ai Message \u001b[0m==================================\n",
      "Name: supervisor\n",
      "\n",
      "Thank you for reaching out to us. It appears that the availability_agent has confirmed a booking for you with General Dentist on 8 August 2024 at 8 PM.\n",
      "\n",
      "However, I would like to confirm a few details with you:\n",
      "\n",
      "* Your ID is indeed 10232303.\n",
      "* The time slot of 8 PM on 8 August 2024 is available with General Dentist.\n",
      "* You have successfully booked a new appointment.\n",
      "\n",
      "Before finalizing the booking, is there anything else you'd like to add or change? Perhaps you'd like to book an additional appointment or make any modifications to your existing booking?\n",
      "\n",
      "Please let me know how I can assist you further.\n",
      "\n",
      "\n"
     ]
    }
   ],
   "source": [
    "for chunk in supervisor.stream(\n",
    "    {\n",
    "        \"messages\": [\n",
    "            {\n",
    "                \"role\": \"user\",\n",
    "                \"content\": \"Can you check and make a booking if general dentist available on 8 August 2024 at 8 PM?.\"\n",
    "                           \"My ID is 10232303.\"\n",
    "            }\n",
    "        ]\n",
    "    }\n",
    "):\n",
    "    pretty_print_messages(chunk, last_message=True)\n",
    "\n",
    "final_message_history = chunk[\"supervisor\"][\"messages\"]"
   ]
  },
  {
   "cell_type": "code",
   "execution_count": 62,
   "id": "bd30d059",
   "metadata": {},
   "outputs": [],
   "source": [
    "def execute_agent(user_input):\n",
    "    #config = {\"configurable\": {\"thread_id\": \"1\", \"recursion_limit\": 20}}\n",
    "    response = supervisor.invoke({\"messages\": [{\"role\": \"user\", \"content\": user_input}]}, config={\"recursion_limit\": 20})\n",
    "    return response"
   ]
  },
  {
   "cell_type": "code",
   "execution_count": 63,
   "id": "175abaa2",
   "metadata": {},
   "outputs": [],
   "source": [
    "example = execute_agent(\"Can you check and make a booking if general dentist available on 8 August 2024 at 8 PM and My ID is 10232303.\")"
   ]
  },
  {
   "cell_type": "code",
   "execution_count": 64,
   "id": "1daaaf1a",
   "metadata": {},
   "outputs": [
    {
     "data": {
      "text/plain": [
       "{'messages': [HumanMessage(content='Can you check and make a booking if general dentist available on 8 August 2024 at 8 PM and My ID is 10232303.', additional_kwargs={}, response_metadata={}, id='c70e57c3-eeb0-461c-908e-57c88bd3bec9'),\n",
       "  AIMessage(content='', additional_kwargs={}, response_metadata={'model': 'llama3.2:3b-instruct-fp16', 'created_at': '2025-09-13T17:26:29.0316731Z', 'done': True, 'done_reason': 'stop', 'total_duration': 716537800, 'load_duration': 46979200, 'prompt_eval_count': 249, 'prompt_eval_duration': 91312700, 'eval_count': 22, 'eval_duration': 576875300, 'model_name': 'llama3.2:3b-instruct-fp16'}, name='supervisor', id='run--3a30fd06-9ab7-4527-8e69-206f08072cb7-0', tool_calls=[{'name': 'transfer_to_availability_agent', 'args': {'id': '10232303'}, 'id': '3f7b2698-d0b3-42ca-8e57-2c7453ce3195', 'type': 'tool_call'}], usage_metadata={'input_tokens': 249, 'output_tokens': 22, 'total_tokens': 271}),\n",
       "  ToolMessage(content='Successfully transferred to availability_agent', name='transfer_to_availability_agent', id='2e92069b-f995-4292-8176-780ab2a2c33d', tool_call_id='3f7b2698-d0b3-42ca-8e57-2c7453ce3195'),\n",
       "  AIMessage(content=\"The availability agent confirmed that there are no general dentists available on 8 August 2024 at 8 PM.\\n\\nUnfortunately, it's not possible to make a booking at this time.\", additional_kwargs={}, response_metadata={'model': 'llama3.2:3b-instruct-fp16', 'created_at': '2025-09-13T17:26:29.6924256Z', 'done': True, 'done_reason': 'stop', 'total_duration': 656227700, 'load_duration': 45133300, 'prompt_eval_count': 124, 'prompt_eval_duration': 7979800, 'eval_count': 39, 'eval_duration': 602098300, 'model_name': 'llama3.2:3b-instruct-fp16'}, name='availability_agent', id='run--fa58e217-226a-4b4c-88fb-b234f1087f22-0', usage_metadata={'input_tokens': 124, 'output_tokens': 39, 'total_tokens': 163}),\n",
       "  AIMessage(content='Transferring back to supervisor', additional_kwargs={}, response_metadata={'__is_handoff_back': True}, name='availability_agent', id='f85ba4e8-68d4-4d27-bef3-4e07b39a4bc9', tool_calls=[{'name': 'transfer_back_to_supervisor', 'args': {}, 'id': 'eaa1dec3-5b37-4da8-aac9-05c31e43f02d', 'type': 'tool_call'}]),\n",
       "  ToolMessage(content='Successfully transferred back to supervisor', name='transfer_back_to_supervisor', id='35c58fdc-1c76-405c-8d5f-0ebba7590469', tool_call_id='eaa1dec3-5b37-4da8-aac9-05c31e43f02d'),\n",
       "  AIMessage(content='Thank you for reaching out to us. Unfortunately, our system indicates that there are no general dentists available on 8 August 2024 at 8 PM. \\n\\nWould you like to check availability for another date and time? Or would you like me to suggest alternative options such as rescheduling or cancelling the booking?', additional_kwargs={}, response_metadata={'model': 'llama3.2:3b-instruct-fp16', 'created_at': '2025-09-13T17:26:30.7624008Z', 'done': True, 'done_reason': 'stop', 'total_duration': 1066596900, 'load_duration': 45707700, 'prompt_eval_count': 213, 'prompt_eval_duration': 9968900, 'eval_count': 65, 'eval_duration': 1005544100, 'model_name': 'llama3.2:3b-instruct-fp16'}, name='supervisor', id='run--295e32b9-4026-45c1-8e03-f1ccb470b1ab-0', usage_metadata={'input_tokens': 213, 'output_tokens': 65, 'total_tokens': 278})]}"
      ]
     },
     "execution_count": 64,
     "metadata": {},
     "output_type": "execute_result"
    }
   ],
   "source": [
    "example"
   ]
  },
  {
   "cell_type": "code",
   "execution_count": 77,
   "id": "8945b5de",
   "metadata": {},
   "outputs": [],
   "source": [
    "op = example['messages'][-1].content"
   ]
  },
  {
   "cell_type": "code",
   "execution_count": 79,
   "id": "e62a82c6",
   "metadata": {
    "scrolled": true
   },
   "outputs": [
    {
     "name": "stdout",
     "output_type": "stream",
     "text": [
      "Thank you for reaching out to us. Unfortunately, our system indicates that there are no general dentists available on 8 August 2024 at 8 PM. \n",
      "\n",
      "Would you like to check availability for another date and time? Or would you like me to suggest alternative options such as rescheduling or cancelling the booking?\n"
     ]
    }
   ],
   "source": [
    "print(op)"
   ]
  }
 ],
 "metadata": {
  "kernelspec": {
   "display_name": "Python 3 (ipykernel)",
   "language": "python",
   "name": "python3"
  },
  "language_info": {
   "codemirror_mode": {
    "name": "ipython",
    "version": 3
   },
   "file_extension": ".py",
   "mimetype": "text/x-python",
   "name": "python",
   "nbconvert_exporter": "python",
   "pygments_lexer": "ipython3",
   "version": "3.11.7"
  }
 },
 "nbformat": 4,
 "nbformat_minor": 5
}
